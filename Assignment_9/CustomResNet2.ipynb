{
  "nbformat": 4,
  "nbformat_minor": 0,
  "metadata": {
    "colab": {
      "name": "CustomResNet2.ipynb",
      "provenance": []
    },
    "kernelspec": {
      "name": "python3",
      "display_name": "Python 3"
    },
    "language_info": {
      "name": "python"
    },
    "accelerator": "GPU",
    "widgets": {
      "application/vnd.jupyter.widget-state+json": {
        "81fe18d46dd545fd8b39dad70c22167a": {
          "model_module": "@jupyter-widgets/controls",
          "model_name": "HBoxModel",
          "model_module_version": "1.5.0",
          "state": {
            "_view_name": "HBoxView",
            "_dom_classes": [],
            "_model_name": "HBoxModel",
            "_view_module": "@jupyter-widgets/controls",
            "_model_module_version": "1.5.0",
            "_view_count": null,
            "_view_module_version": "1.5.0",
            "box_style": "",
            "layout": "IPY_MODEL_df691a67974f41a4a70695bfbbf70fed",
            "_model_module": "@jupyter-widgets/controls",
            "children": [
              "IPY_MODEL_23c84b727a1c4571adf543af1e914799",
              "IPY_MODEL_de532d75d8b048a0bca98c662ae2ec76",
              "IPY_MODEL_b8522d2dc46a4d91b2ca936f05c3f4d6"
            ]
          }
        },
        "df691a67974f41a4a70695bfbbf70fed": {
          "model_module": "@jupyter-widgets/base",
          "model_name": "LayoutModel",
          "model_module_version": "1.2.0",
          "state": {
            "_view_name": "LayoutView",
            "grid_template_rows": null,
            "right": null,
            "justify_content": null,
            "_view_module": "@jupyter-widgets/base",
            "overflow": null,
            "_model_module_version": "1.2.0",
            "_view_count": null,
            "flex_flow": null,
            "width": null,
            "min_width": null,
            "border": null,
            "align_items": null,
            "bottom": null,
            "_model_module": "@jupyter-widgets/base",
            "top": null,
            "grid_column": null,
            "overflow_y": null,
            "overflow_x": null,
            "grid_auto_flow": null,
            "grid_area": null,
            "grid_template_columns": null,
            "flex": null,
            "_model_name": "LayoutModel",
            "justify_items": null,
            "grid_row": null,
            "max_height": null,
            "align_content": null,
            "visibility": null,
            "align_self": null,
            "height": null,
            "min_height": null,
            "padding": null,
            "grid_auto_rows": null,
            "grid_gap": null,
            "max_width": null,
            "order": null,
            "_view_module_version": "1.2.0",
            "grid_template_areas": null,
            "object_position": null,
            "object_fit": null,
            "grid_auto_columns": null,
            "margin": null,
            "display": null,
            "left": null
          }
        },
        "23c84b727a1c4571adf543af1e914799": {
          "model_module": "@jupyter-widgets/controls",
          "model_name": "HTMLModel",
          "model_module_version": "1.5.0",
          "state": {
            "_view_name": "HTMLView",
            "style": "IPY_MODEL_6f85cdfb78b148d4bb5b5d0a67f0d67a",
            "_dom_classes": [],
            "description": "",
            "_model_name": "HTMLModel",
            "placeholder": "​",
            "_view_module": "@jupyter-widgets/controls",
            "_model_module_version": "1.5.0",
            "value": " 59%",
            "_view_count": null,
            "_view_module_version": "1.5.0",
            "description_tooltip": null,
            "_model_module": "@jupyter-widgets/controls",
            "layout": "IPY_MODEL_4226f3852af34502bd8a67a642fbbd59"
          }
        },
        "de532d75d8b048a0bca98c662ae2ec76": {
          "model_module": "@jupyter-widgets/controls",
          "model_name": "FloatProgressModel",
          "model_module_version": "1.5.0",
          "state": {
            "_view_name": "ProgressView",
            "style": "IPY_MODEL_74a98b72c2d3469e9ec60b9ab8a3af8d",
            "_dom_classes": [],
            "description": "",
            "_model_name": "FloatProgressModel",
            "bar_style": "danger",
            "max": 500,
            "_view_module": "@jupyter-widgets/controls",
            "_model_module_version": "1.5.0",
            "value": 296,
            "_view_count": null,
            "_view_module_version": "1.5.0",
            "orientation": "horizontal",
            "min": 0,
            "description_tooltip": null,
            "_model_module": "@jupyter-widgets/controls",
            "layout": "IPY_MODEL_ba78e6c176e74b06989d0187b4d039a9"
          }
        },
        "b8522d2dc46a4d91b2ca936f05c3f4d6": {
          "model_module": "@jupyter-widgets/controls",
          "model_name": "HTMLModel",
          "model_module_version": "1.5.0",
          "state": {
            "_view_name": "HTMLView",
            "style": "IPY_MODEL_0728c92f284d4277a72f2e79e1c09086",
            "_dom_classes": [],
            "description": "",
            "_model_name": "HTMLModel",
            "placeholder": "​",
            "_view_module": "@jupyter-widgets/controls",
            "_model_module_version": "1.5.0",
            "value": " 296/500 [02:35&lt;01:55,  1.77it/s]",
            "_view_count": null,
            "_view_module_version": "1.5.0",
            "description_tooltip": null,
            "_model_module": "@jupyter-widgets/controls",
            "layout": "IPY_MODEL_24dc19c600464908aa345a52f4e4b6f8"
          }
        },
        "6f85cdfb78b148d4bb5b5d0a67f0d67a": {
          "model_module": "@jupyter-widgets/controls",
          "model_name": "DescriptionStyleModel",
          "model_module_version": "1.5.0",
          "state": {
            "_view_name": "StyleView",
            "_model_name": "DescriptionStyleModel",
            "description_width": "",
            "_view_module": "@jupyter-widgets/base",
            "_model_module_version": "1.5.0",
            "_view_count": null,
            "_view_module_version": "1.2.0",
            "_model_module": "@jupyter-widgets/controls"
          }
        },
        "4226f3852af34502bd8a67a642fbbd59": {
          "model_module": "@jupyter-widgets/base",
          "model_name": "LayoutModel",
          "model_module_version": "1.2.0",
          "state": {
            "_view_name": "LayoutView",
            "grid_template_rows": null,
            "right": null,
            "justify_content": null,
            "_view_module": "@jupyter-widgets/base",
            "overflow": null,
            "_model_module_version": "1.2.0",
            "_view_count": null,
            "flex_flow": null,
            "width": null,
            "min_width": null,
            "border": null,
            "align_items": null,
            "bottom": null,
            "_model_module": "@jupyter-widgets/base",
            "top": null,
            "grid_column": null,
            "overflow_y": null,
            "overflow_x": null,
            "grid_auto_flow": null,
            "grid_area": null,
            "grid_template_columns": null,
            "flex": null,
            "_model_name": "LayoutModel",
            "justify_items": null,
            "grid_row": null,
            "max_height": null,
            "align_content": null,
            "visibility": null,
            "align_self": null,
            "height": null,
            "min_height": null,
            "padding": null,
            "grid_auto_rows": null,
            "grid_gap": null,
            "max_width": null,
            "order": null,
            "_view_module_version": "1.2.0",
            "grid_template_areas": null,
            "object_position": null,
            "object_fit": null,
            "grid_auto_columns": null,
            "margin": null,
            "display": null,
            "left": null
          }
        },
        "74a98b72c2d3469e9ec60b9ab8a3af8d": {
          "model_module": "@jupyter-widgets/controls",
          "model_name": "ProgressStyleModel",
          "model_module_version": "1.5.0",
          "state": {
            "_view_name": "StyleView",
            "_model_name": "ProgressStyleModel",
            "description_width": "",
            "_view_module": "@jupyter-widgets/base",
            "_model_module_version": "1.5.0",
            "_view_count": null,
            "_view_module_version": "1.2.0",
            "bar_color": null,
            "_model_module": "@jupyter-widgets/controls"
          }
        },
        "ba78e6c176e74b06989d0187b4d039a9": {
          "model_module": "@jupyter-widgets/base",
          "model_name": "LayoutModel",
          "model_module_version": "1.2.0",
          "state": {
            "_view_name": "LayoutView",
            "grid_template_rows": null,
            "right": null,
            "justify_content": null,
            "_view_module": "@jupyter-widgets/base",
            "overflow": null,
            "_model_module_version": "1.2.0",
            "_view_count": null,
            "flex_flow": null,
            "width": null,
            "min_width": null,
            "border": null,
            "align_items": null,
            "bottom": null,
            "_model_module": "@jupyter-widgets/base",
            "top": null,
            "grid_column": null,
            "overflow_y": null,
            "overflow_x": null,
            "grid_auto_flow": null,
            "grid_area": null,
            "grid_template_columns": null,
            "flex": null,
            "_model_name": "LayoutModel",
            "justify_items": null,
            "grid_row": null,
            "max_height": null,
            "align_content": null,
            "visibility": null,
            "align_self": null,
            "height": null,
            "min_height": null,
            "padding": null,
            "grid_auto_rows": null,
            "grid_gap": null,
            "max_width": null,
            "order": null,
            "_view_module_version": "1.2.0",
            "grid_template_areas": null,
            "object_position": null,
            "object_fit": null,
            "grid_auto_columns": null,
            "margin": null,
            "display": null,
            "left": null
          }
        },
        "0728c92f284d4277a72f2e79e1c09086": {
          "model_module": "@jupyter-widgets/controls",
          "model_name": "DescriptionStyleModel",
          "model_module_version": "1.5.0",
          "state": {
            "_view_name": "StyleView",
            "_model_name": "DescriptionStyleModel",
            "description_width": "",
            "_view_module": "@jupyter-widgets/base",
            "_model_module_version": "1.5.0",
            "_view_count": null,
            "_view_module_version": "1.2.0",
            "_model_module": "@jupyter-widgets/controls"
          }
        },
        "24dc19c600464908aa345a52f4e4b6f8": {
          "model_module": "@jupyter-widgets/base",
          "model_name": "LayoutModel",
          "model_module_version": "1.2.0",
          "state": {
            "_view_name": "LayoutView",
            "grid_template_rows": null,
            "right": null,
            "justify_content": null,
            "_view_module": "@jupyter-widgets/base",
            "overflow": null,
            "_model_module_version": "1.2.0",
            "_view_count": null,
            "flex_flow": null,
            "width": null,
            "min_width": null,
            "border": null,
            "align_items": null,
            "bottom": null,
            "_model_module": "@jupyter-widgets/base",
            "top": null,
            "grid_column": null,
            "overflow_y": null,
            "overflow_x": null,
            "grid_auto_flow": null,
            "grid_area": null,
            "grid_template_columns": null,
            "flex": null,
            "_model_name": "LayoutModel",
            "justify_items": null,
            "grid_row": null,
            "max_height": null,
            "align_content": null,
            "visibility": null,
            "align_self": null,
            "height": null,
            "min_height": null,
            "padding": null,
            "grid_auto_rows": null,
            "grid_gap": null,
            "max_width": null,
            "order": null,
            "_view_module_version": "1.2.0",
            "grid_template_areas": null,
            "object_position": null,
            "object_fit": null,
            "grid_auto_columns": null,
            "margin": null,
            "display": null,
            "left": null
          }
        },
        "bf4964c1760c476f8067b1d823de9938": {
          "model_module": "@jupyter-widgets/controls",
          "model_name": "HBoxModel",
          "model_module_version": "1.5.0",
          "state": {
            "_view_name": "HBoxView",
            "_dom_classes": [],
            "_model_name": "HBoxModel",
            "_view_module": "@jupyter-widgets/controls",
            "_model_module_version": "1.5.0",
            "_view_count": null,
            "_view_module_version": "1.5.0",
            "box_style": "",
            "layout": "IPY_MODEL_162267c2283b4e2e9f415c1557202778",
            "_model_module": "@jupyter-widgets/controls",
            "children": [
              "IPY_MODEL_a6d1724cb23b40c5800eeb8d36927f2a",
              "IPY_MODEL_2b45c59041de41abb86afb5158c5b34a",
              "IPY_MODEL_478528fd781c41ac807c29737d5fafb8"
            ]
          }
        },
        "162267c2283b4e2e9f415c1557202778": {
          "model_module": "@jupyter-widgets/base",
          "model_name": "LayoutModel",
          "model_module_version": "1.2.0",
          "state": {
            "_view_name": "LayoutView",
            "grid_template_rows": null,
            "right": null,
            "justify_content": null,
            "_view_module": "@jupyter-widgets/base",
            "overflow": null,
            "_model_module_version": "1.2.0",
            "_view_count": null,
            "flex_flow": null,
            "width": null,
            "min_width": null,
            "border": null,
            "align_items": null,
            "bottom": null,
            "_model_module": "@jupyter-widgets/base",
            "top": null,
            "grid_column": null,
            "overflow_y": null,
            "overflow_x": null,
            "grid_auto_flow": null,
            "grid_area": null,
            "grid_template_columns": null,
            "flex": null,
            "_model_name": "LayoutModel",
            "justify_items": null,
            "grid_row": null,
            "max_height": null,
            "align_content": null,
            "visibility": null,
            "align_self": null,
            "height": null,
            "min_height": null,
            "padding": null,
            "grid_auto_rows": null,
            "grid_gap": null,
            "max_width": null,
            "order": null,
            "_view_module_version": "1.2.0",
            "grid_template_areas": null,
            "object_position": null,
            "object_fit": null,
            "grid_auto_columns": null,
            "margin": null,
            "display": null,
            "left": null
          }
        },
        "a6d1724cb23b40c5800eeb8d36927f2a": {
          "model_module": "@jupyter-widgets/controls",
          "model_name": "HTMLModel",
          "model_module_version": "1.5.0",
          "state": {
            "_view_name": "HTMLView",
            "style": "IPY_MODEL_b475acbbc98e4cc99c1a0215233da822",
            "_dom_classes": [],
            "description": "",
            "_model_name": "HTMLModel",
            "placeholder": "​",
            "_view_module": "@jupyter-widgets/controls",
            "_model_module_version": "1.5.0",
            "value": " 48%",
            "_view_count": null,
            "_view_module_version": "1.5.0",
            "description_tooltip": null,
            "_model_module": "@jupyter-widgets/controls",
            "layout": "IPY_MODEL_15e4e7e80f0743d38a49436fe7f7e921"
          }
        },
        "2b45c59041de41abb86afb5158c5b34a": {
          "model_module": "@jupyter-widgets/controls",
          "model_name": "FloatProgressModel",
          "model_module_version": "1.5.0",
          "state": {
            "_view_name": "ProgressView",
            "style": "IPY_MODEL_3d04dd3f0a144b29931053a8994fdd68",
            "_dom_classes": [],
            "description": "",
            "_model_name": "FloatProgressModel",
            "bar_style": "danger",
            "max": 400,
            "_view_module": "@jupyter-widgets/controls",
            "_model_module_version": "1.5.0",
            "value": 193,
            "_view_count": null,
            "_view_module_version": "1.5.0",
            "orientation": "horizontal",
            "min": 0,
            "description_tooltip": null,
            "_model_module": "@jupyter-widgets/controls",
            "layout": "IPY_MODEL_840fb15264a94d8d93f39344ccbe249f"
          }
        },
        "478528fd781c41ac807c29737d5fafb8": {
          "model_module": "@jupyter-widgets/controls",
          "model_name": "HTMLModel",
          "model_module_version": "1.5.0",
          "state": {
            "_view_name": "HTMLView",
            "style": "IPY_MODEL_4736a2476411425aa02c46e32234a814",
            "_dom_classes": [],
            "description": "",
            "_model_name": "HTMLModel",
            "placeholder": "​",
            "_view_module": "@jupyter-widgets/controls",
            "_model_module_version": "1.5.0",
            "value": " 193/400 [02:16&lt;02:25,  1.42it/s]",
            "_view_count": null,
            "_view_module_version": "1.5.0",
            "description_tooltip": null,
            "_model_module": "@jupyter-widgets/controls",
            "layout": "IPY_MODEL_1f200b29a45a4104b04b3e2c4026bf15"
          }
        },
        "b475acbbc98e4cc99c1a0215233da822": {
          "model_module": "@jupyter-widgets/controls",
          "model_name": "DescriptionStyleModel",
          "model_module_version": "1.5.0",
          "state": {
            "_view_name": "StyleView",
            "_model_name": "DescriptionStyleModel",
            "description_width": "",
            "_view_module": "@jupyter-widgets/base",
            "_model_module_version": "1.5.0",
            "_view_count": null,
            "_view_module_version": "1.2.0",
            "_model_module": "@jupyter-widgets/controls"
          }
        },
        "15e4e7e80f0743d38a49436fe7f7e921": {
          "model_module": "@jupyter-widgets/base",
          "model_name": "LayoutModel",
          "model_module_version": "1.2.0",
          "state": {
            "_view_name": "LayoutView",
            "grid_template_rows": null,
            "right": null,
            "justify_content": null,
            "_view_module": "@jupyter-widgets/base",
            "overflow": null,
            "_model_module_version": "1.2.0",
            "_view_count": null,
            "flex_flow": null,
            "width": null,
            "min_width": null,
            "border": null,
            "align_items": null,
            "bottom": null,
            "_model_module": "@jupyter-widgets/base",
            "top": null,
            "grid_column": null,
            "overflow_y": null,
            "overflow_x": null,
            "grid_auto_flow": null,
            "grid_area": null,
            "grid_template_columns": null,
            "flex": null,
            "_model_name": "LayoutModel",
            "justify_items": null,
            "grid_row": null,
            "max_height": null,
            "align_content": null,
            "visibility": null,
            "align_self": null,
            "height": null,
            "min_height": null,
            "padding": null,
            "grid_auto_rows": null,
            "grid_gap": null,
            "max_width": null,
            "order": null,
            "_view_module_version": "1.2.0",
            "grid_template_areas": null,
            "object_position": null,
            "object_fit": null,
            "grid_auto_columns": null,
            "margin": null,
            "display": null,
            "left": null
          }
        },
        "3d04dd3f0a144b29931053a8994fdd68": {
          "model_module": "@jupyter-widgets/controls",
          "model_name": "ProgressStyleModel",
          "model_module_version": "1.5.0",
          "state": {
            "_view_name": "StyleView",
            "_model_name": "ProgressStyleModel",
            "description_width": "",
            "_view_module": "@jupyter-widgets/base",
            "_model_module_version": "1.5.0",
            "_view_count": null,
            "_view_module_version": "1.2.0",
            "bar_color": null,
            "_model_module": "@jupyter-widgets/controls"
          }
        },
        "840fb15264a94d8d93f39344ccbe249f": {
          "model_module": "@jupyter-widgets/base",
          "model_name": "LayoutModel",
          "model_module_version": "1.2.0",
          "state": {
            "_view_name": "LayoutView",
            "grid_template_rows": null,
            "right": null,
            "justify_content": null,
            "_view_module": "@jupyter-widgets/base",
            "overflow": null,
            "_model_module_version": "1.2.0",
            "_view_count": null,
            "flex_flow": null,
            "width": null,
            "min_width": null,
            "border": null,
            "align_items": null,
            "bottom": null,
            "_model_module": "@jupyter-widgets/base",
            "top": null,
            "grid_column": null,
            "overflow_y": null,
            "overflow_x": null,
            "grid_auto_flow": null,
            "grid_area": null,
            "grid_template_columns": null,
            "flex": null,
            "_model_name": "LayoutModel",
            "justify_items": null,
            "grid_row": null,
            "max_height": null,
            "align_content": null,
            "visibility": null,
            "align_self": null,
            "height": null,
            "min_height": null,
            "padding": null,
            "grid_auto_rows": null,
            "grid_gap": null,
            "max_width": null,
            "order": null,
            "_view_module_version": "1.2.0",
            "grid_template_areas": null,
            "object_position": null,
            "object_fit": null,
            "grid_auto_columns": null,
            "margin": null,
            "display": null,
            "left": null
          }
        },
        "4736a2476411425aa02c46e32234a814": {
          "model_module": "@jupyter-widgets/controls",
          "model_name": "DescriptionStyleModel",
          "model_module_version": "1.5.0",
          "state": {
            "_view_name": "StyleView",
            "_model_name": "DescriptionStyleModel",
            "description_width": "",
            "_view_module": "@jupyter-widgets/base",
            "_model_module_version": "1.5.0",
            "_view_count": null,
            "_view_module_version": "1.2.0",
            "_model_module": "@jupyter-widgets/controls"
          }
        },
        "1f200b29a45a4104b04b3e2c4026bf15": {
          "model_module": "@jupyter-widgets/base",
          "model_name": "LayoutModel",
          "model_module_version": "1.2.0",
          "state": {
            "_view_name": "LayoutView",
            "grid_template_rows": null,
            "right": null,
            "justify_content": null,
            "_view_module": "@jupyter-widgets/base",
            "overflow": null,
            "_model_module_version": "1.2.0",
            "_view_count": null,
            "flex_flow": null,
            "width": null,
            "min_width": null,
            "border": null,
            "align_items": null,
            "bottom": null,
            "_model_module": "@jupyter-widgets/base",
            "top": null,
            "grid_column": null,
            "overflow_y": null,
            "overflow_x": null,
            "grid_auto_flow": null,
            "grid_area": null,
            "grid_template_columns": null,
            "flex": null,
            "_model_name": "LayoutModel",
            "justify_items": null,
            "grid_row": null,
            "max_height": null,
            "align_content": null,
            "visibility": null,
            "align_self": null,
            "height": null,
            "min_height": null,
            "padding": null,
            "grid_auto_rows": null,
            "grid_gap": null,
            "max_width": null,
            "order": null,
            "_view_module_version": "1.2.0",
            "grid_template_areas": null,
            "object_position": null,
            "object_fit": null,
            "grid_auto_columns": null,
            "margin": null,
            "display": null,
            "left": null
          }
        }
      }
    }
  },
  "cells": [
    {
      "cell_type": "code",
      "metadata": {
        "id": "sy5lo9Na9J7J"
      },
      "source": [
        "import torch\n",
        "import torch.nn as nn\n",
        "import torch.nn.functional as F\n",
        "import torchvision\n",
        "import torchvision.transforms as transforms"
      ],
      "execution_count": 1,
      "outputs": []
    },
    {
      "cell_type": "code",
      "metadata": {
        "colab": {
          "base_uri": "https://localhost:8080/"
        },
        "id": "oqEuQtW3Mdew",
        "outputId": "eb64c11a-f9f9-4a42-e3ff-ceaaaca3b530"
      },
      "source": [
        "!pip install albumentations"
      ],
      "execution_count": 6,
      "outputs": [
        {
          "output_type": "stream",
          "name": "stdout",
          "text": [
            "Requirement already satisfied: albumentations in /usr/local/lib/python3.7/dist-packages (0.4.6)\n",
            "Requirement already satisfied: PyYAML in /usr/local/lib/python3.7/dist-packages (from albumentations) (3.13)\n",
            "Requirement already satisfied: scipy in /usr/local/lib/python3.7/dist-packages (from albumentations) (1.4.1)\n",
            "Requirement already satisfied: imgaug>=0.4.0 in /usr/local/lib/python3.7/dist-packages (from albumentations) (0.4.0)\n",
            "Requirement already satisfied: numpy>=1.11.1 in /usr/local/lib/python3.7/dist-packages (from albumentations) (1.19.5)\n",
            "Requirement already satisfied: opencv-python>=4.1.1 in /usr/local/lib/python3.7/dist-packages (from albumentations) (4.1.2.30)\n",
            "Requirement already satisfied: six in /usr/local/lib/python3.7/dist-packages (from imgaug>=0.4.0->albumentations) (1.15.0)\n",
            "Requirement already satisfied: imageio in /usr/local/lib/python3.7/dist-packages (from imgaug>=0.4.0->albumentations) (2.4.1)\n",
            "Requirement already satisfied: Pillow in /usr/local/lib/python3.7/dist-packages (from imgaug>=0.4.0->albumentations) (7.1.2)\n",
            "Requirement already satisfied: scikit-image>=0.14.2 in /usr/local/lib/python3.7/dist-packages (from imgaug>=0.4.0->albumentations) (0.18.3)\n",
            "Requirement already satisfied: matplotlib in /usr/local/lib/python3.7/dist-packages (from imgaug>=0.4.0->albumentations) (3.2.2)\n",
            "Requirement already satisfied: Shapely in /usr/local/lib/python3.7/dist-packages (from imgaug>=0.4.0->albumentations) (1.8.0)\n",
            "Requirement already satisfied: networkx>=2.0 in /usr/local/lib/python3.7/dist-packages (from scikit-image>=0.14.2->imgaug>=0.4.0->albumentations) (2.6.3)\n",
            "Requirement already satisfied: tifffile>=2019.7.26 in /usr/local/lib/python3.7/dist-packages (from scikit-image>=0.14.2->imgaug>=0.4.0->albumentations) (2021.11.2)\n",
            "Requirement already satisfied: PyWavelets>=1.1.1 in /usr/local/lib/python3.7/dist-packages (from scikit-image>=0.14.2->imgaug>=0.4.0->albumentations) (1.2.0)\n",
            "Requirement already satisfied: pyparsing!=2.0.4,!=2.1.2,!=2.1.6,>=2.0.1 in /usr/local/lib/python3.7/dist-packages (from matplotlib->imgaug>=0.4.0->albumentations) (3.0.6)\n",
            "Requirement already satisfied: python-dateutil>=2.1 in /usr/local/lib/python3.7/dist-packages (from matplotlib->imgaug>=0.4.0->albumentations) (2.8.2)\n",
            "Requirement already satisfied: cycler>=0.10 in /usr/local/lib/python3.7/dist-packages (from matplotlib->imgaug>=0.4.0->albumentations) (0.11.0)\n",
            "Requirement already satisfied: kiwisolver>=1.0.1 in /usr/local/lib/python3.7/dist-packages (from matplotlib->imgaug>=0.4.0->albumentations) (1.3.2)\n"
          ]
        }
      ]
    },
    {
      "cell_type": "code",
      "metadata": {
        "colab": {
          "base_uri": "https://localhost:8080/"
        },
        "id": "ddkAoZW2bp2E",
        "outputId": "ef4d7627-9d9e-4cab-847d-b134828606c7"
      },
      "source": [
        "# Run this before running colab notebook !pip install albumentations==0.4.6\n",
        "\n",
        "import cv2\n",
        "import torchvision\n",
        "import torch\n",
        "import torchvision.transforms as transforms\n",
        "\n",
        "# Albumentations for augmentations\n",
        "import albumentations as A\n",
        "from albumentations.pytorch import ToTensorV2\n",
        "device = 'cuda'\n",
        "torch.manual_seed(2)\n",
        "\n",
        "classes = ('plane', 'car', 'bird', 'cat',\n",
        "           'deer', 'dog', 'frog', 'horse', 'ship', 'truck')\n",
        "\n",
        "cv2.setNumThreads(0)\n",
        "cv2.ocl.setUseOpenCL(False)\n",
        "\n",
        "class Cifar10SearchDataset(torchvision.datasets.CIFAR10):\n",
        "    def __init__(self, root=\"~/data/cifar10\", train=True, download=True, transform=None):\n",
        "        super().__init__(root=root, train=train, download=download, transform=transform)\n",
        "\n",
        "    def __getitem__(self, index):\n",
        "        image, label = self.data[index], self.targets[index]\n",
        "\n",
        "        if self.transform is not None:\n",
        "            transformed = self.transform(image=image)\n",
        "            image = transformed[\"image\"]\n",
        "\n",
        "        return image, label\n",
        "\n",
        "# transform = transforms.Compose(\n",
        "#     [transforms.ToTensor(),\n",
        "#      transforms.Normalize((0.4914, 0.4822, 0.4465), (0.2470, 0.2435, 0.2616))])\n",
        "\n",
        "train_transforms = A.Compose(\n",
        "    [\n",
        "        A.augmentations.transforms.PadIfNeeded(40,40),\n",
        "        A.augmentations.transforms.RandomCrop(32,32),\n",
        "        A.HorizontalFlip(p=0.5),\n",
        "        A.CoarseDropout(max_holes = 1, max_height=8, max_width=8, min_holes = 1, min_height=8, min_width=8,\n",
        "                        fill_value=0.4734),\n",
        "        A.Normalize(\n",
        "            mean = (0.4914, 0.4822, 0.4465),\n",
        "            std = (0.2470, 0.2435, 0.2616),\n",
        "            p =1.0\n",
        "        ),\n",
        "        ToTensorV2()\n",
        "    ],\n",
        "    p=1.0\n",
        ")\n",
        "\n",
        "test_transforms = A.Compose(\n",
        "    [\n",
        "        A.Normalize(\n",
        "            mean = (0.4914, 0.4822, 0.4465),\n",
        "            std = (0.2470, 0.2435, 0.2616),\n",
        "            p =1.0\n",
        "        ),\n",
        "        ToTensorV2()\n",
        "    ]\n",
        ")\n",
        "\n",
        "class args():\n",
        "    def __init__(self,device = 'cpu' ,use_cuda = False) -> None:\n",
        "        self.batch_size = 512\n",
        "        self.device = device\n",
        "        self.use_cuda = use_cuda\n",
        "        self.kwargs = {'num_workers': 2, 'pin_memory': True} if self.use_cuda else {}\n",
        "\n",
        "trainset = Cifar10SearchDataset(root='./data', train=True,\n",
        "                                        download=True, transform=train_transforms)\n",
        "                                        \n",
        "trainloader = torch.utils.data.DataLoader(trainset, batch_size=args().batch_size,\n",
        "                                          shuffle=True, **args(use_cuda=True).kwargs)\n",
        "\n",
        "\n",
        "testset = Cifar10SearchDataset(root='./data', train=False,\n",
        "                                       download=True, transform=test_transforms)\n",
        "\n",
        "testloader = torch.utils.data.DataLoader(testset, batch_size=args().batch_size,\n",
        "                                         shuffle=False, **args(use_cuda=True).kwargs)"
      ],
      "execution_count": 9,
      "outputs": [
        {
          "output_type": "stream",
          "name": "stdout",
          "text": [
            "Files already downloaded and verified\n",
            "Files already downloaded and verified\n"
          ]
        }
      ]
    },
    {
      "cell_type": "code",
      "metadata": {
        "id": "vMpJwi1sDG7E"
      },
      "source": [
        "import torch\n",
        "import torch.nn as nn\n",
        "\n",
        "class ResBlock(nn.Module):\n",
        "  def __init__(self,input_channels, *args, **kwargs):\n",
        "    \n",
        "    super(ResBlock,self).__init__()\n",
        "\n",
        "    self.dropout_value = 0.1\n",
        "    self.input_channels = input_channels\n",
        "\n",
        "    self.conv1 = nn.Sequential(\n",
        "            nn.Conv2d(in_channels=self.input_channels, out_channels=self.input_channels,\n",
        "                      kernel_size=(3, 3), padding=1, bias=False),\n",
        "            nn.BatchNorm2d(self.input_channels),\n",
        "            nn.ReLU(inplace=True),\n",
        "            nn.Dropout(self.dropout_value)\n",
        "    )\n",
        "    self.conv2 = nn.Sequential(\n",
        "            nn.Conv2d(in_channels=self.input_channels, out_channels=self.input_channels,\n",
        "                      kernel_size=(3, 3), padding=1, bias=False),\n",
        "            nn.BatchNorm2d(self.input_channels),\n",
        "            nn.ReLU(inplace=True),\n",
        "            nn.Dropout(self.dropout_value) \n",
        "    )\n",
        "\n",
        "  def forward(self,x):\n",
        "    \n",
        "    x = self.conv1(x)\n",
        "    x = self.conv2(x)\n",
        "\n",
        "    return x\n",
        "\n",
        "class block(nn.Module):\n",
        "  def __init__(self,input_channels,output_channels, *args, **kwargs):\n",
        "    super(block,self).__init__()\n",
        "\n",
        "    self.input_channels = input_channels\n",
        "    self.output_channels = output_channels\n",
        "    self.dropout_value = 0.1\n",
        "\n",
        "    self.conv1 = nn.Sequential(\n",
        "        nn.Conv2d(in_channels= self.input_channels, out_channels=self.output_channels,\n",
        "                  kernel_size = (3, 3) ,stride = 1, padding = 1, bias = False),\n",
        "        nn.MaxPool2d(2,2),\n",
        "        nn.BatchNorm2d(self.output_channels),\n",
        "        nn.ReLU(inplace=True),\n",
        "        nn.Dropout(self.dropout_value)\n",
        "    )\n",
        "    self.resblock = ResBlock(self.output_channels)\n",
        "\n",
        "  def forward(self,x):\n",
        "\n",
        "    x = self.conv1(x)\n",
        "    identity = x\n",
        "    x = self.resblock(x)\n",
        "    out = x.clone() + identity\n",
        "    \n",
        "    return x\n",
        "class CustomResNet(nn.Module):\n",
        "  def __init__(self):\n",
        "    super(CustomResNet,self).__init__()\n",
        "\n",
        "    self.dropout_value = 0.1\n",
        "\n",
        "    self.prep_layer = nn.Sequential(\n",
        "            nn.Conv2d(in_channels=3, out_channels = 64,\n",
        "                      kernel_size=(3, 3), padding=1, bias=False),\n",
        "            nn.BatchNorm2d(64),\n",
        "            nn.ReLU(inplace=True),\n",
        "            nn.Dropout(self.dropout_value)\n",
        "    )\n",
        "    \n",
        "    \n",
        "    self.layer1 = block(64,128)\n",
        "\n",
        "    self.layer2 = nn.Sequential(\n",
        "        nn.Conv2d(in_channels= 128, out_channels=256,\n",
        "                  kernel_size = (3, 3) ,stride = 1, padding = 1, bias = False),\n",
        "        nn.MaxPool2d(2,2),\n",
        "        nn.BatchNorm2d(256),\n",
        "        nn.ReLU(inplace=True),\n",
        "        nn.Dropout(self.dropout_value)\n",
        "    )\n",
        "\n",
        "    self.layer3 = block(256,512)\n",
        "\n",
        "    self.gmp = nn.MaxPool2d(4,4)\n",
        "\n",
        "    self.fc1 = nn.Linear(in_features=512,out_features=256)\n",
        "    self.fc2 = nn.Linear(in_features=256,out_features=64)\n",
        "    self.fc3 = nn.Linear(in_features=64,out_features=10)\n",
        "\n",
        "    self.intialise_weight()\n",
        "  \n",
        "  def forward(self,x):\n",
        "\n",
        "    x = self.prep_layer(x)\n",
        "    x = self.layer1(x)\n",
        "    x = self.layer2(x)\n",
        "    x = self.layer3(x)\n",
        "    x = self.gmp(x)\n",
        "    \n",
        "    # print(x.shape)\n",
        "\n",
        "    x = x.view(-1,512)\n",
        "    \n",
        "    # print(x.shape)\n",
        "\n",
        "    x = self.fc1(x)\n",
        "    x = self.fc2(x)\n",
        "    x = self.fc3(x)\n",
        "    \n",
        "    x = x.view(-1,10)\n",
        "\n",
        "    return F.log_softmax(x)\n",
        "  \n",
        "  def intialise_weight(self):\n",
        "    for m in self.modules():\n",
        "      if isinstance(m,nn.BatchNorm2d):\n",
        "        nn.init.constant_(m.weight,0.125)\n",
        "\n"
      ],
      "execution_count": 30,
      "outputs": []
    },
    {
      "cell_type": "code",
      "metadata": {
        "id": "uLPE6co3Dg6n",
        "colab": {
          "base_uri": "https://localhost:8080/"
        },
        "outputId": "23edb051-762a-41c5-a2cb-d8bd5da01c4e"
      },
      "source": [
        "pip install torch-lr-finder"
      ],
      "execution_count": 20,
      "outputs": [
        {
          "output_type": "stream",
          "name": "stdout",
          "text": [
            "Collecting torch-lr-finder\n",
            "  Downloading torch_lr_finder-0.2.1-py3-none-any.whl (11 kB)\n",
            "Requirement already satisfied: packaging in /usr/local/lib/python3.7/dist-packages (from torch-lr-finder) (21.3)\n",
            "Requirement already satisfied: matplotlib in /usr/local/lib/python3.7/dist-packages (from torch-lr-finder) (3.2.2)\n",
            "Requirement already satisfied: torch>=0.4.1 in /usr/local/lib/python3.7/dist-packages (from torch-lr-finder) (1.10.0+cu111)\n",
            "Requirement already satisfied: tqdm in /usr/local/lib/python3.7/dist-packages (from torch-lr-finder) (4.62.3)\n",
            "Requirement already satisfied: numpy in /usr/local/lib/python3.7/dist-packages (from torch-lr-finder) (1.19.5)\n",
            "Requirement already satisfied: typing-extensions in /usr/local/lib/python3.7/dist-packages (from torch>=0.4.1->torch-lr-finder) (3.10.0.2)\n",
            "Requirement already satisfied: pyparsing!=2.0.4,!=2.1.2,!=2.1.6,>=2.0.1 in /usr/local/lib/python3.7/dist-packages (from matplotlib->torch-lr-finder) (3.0.6)\n",
            "Requirement already satisfied: python-dateutil>=2.1 in /usr/local/lib/python3.7/dist-packages (from matplotlib->torch-lr-finder) (2.8.2)\n",
            "Requirement already satisfied: kiwisolver>=1.0.1 in /usr/local/lib/python3.7/dist-packages (from matplotlib->torch-lr-finder) (1.3.2)\n",
            "Requirement already satisfied: cycler>=0.10 in /usr/local/lib/python3.7/dist-packages (from matplotlib->torch-lr-finder) (0.11.0)\n",
            "Requirement already satisfied: six>=1.5 in /usr/local/lib/python3.7/dist-packages (from python-dateutil>=2.1->matplotlib->torch-lr-finder) (1.15.0)\n",
            "Installing collected packages: torch-lr-finder\n",
            "Successfully installed torch-lr-finder-0.2.1\n"
          ]
        }
      ]
    },
    {
      "cell_type": "code",
      "metadata": {
        "id": "A7E6AGs6aT8e"
      },
      "source": [
        "\n",
        "from torch_lr_finder import LRFinder\n",
        "\n"
      ],
      "execution_count": 21,
      "outputs": []
    },
    {
      "cell_type": "code",
      "metadata": {
        "colab": {
          "base_uri": "https://localhost:8080/",
          "height": 426,
          "referenced_widgets": [
            "81fe18d46dd545fd8b39dad70c22167a",
            "df691a67974f41a4a70695bfbbf70fed",
            "23c84b727a1c4571adf543af1e914799",
            "de532d75d8b048a0bca98c662ae2ec76",
            "b8522d2dc46a4d91b2ca936f05c3f4d6",
            "6f85cdfb78b148d4bb5b5d0a67f0d67a",
            "4226f3852af34502bd8a67a642fbbd59",
            "74a98b72c2d3469e9ec60b9ab8a3af8d",
            "ba78e6c176e74b06989d0187b4d039a9",
            "0728c92f284d4277a72f2e79e1c09086",
            "24dc19c600464908aa345a52f4e4b6f8"
          ]
        },
        "id": "z4zxQ2DogTQj",
        "outputId": "bd0aee28-ab4a-4484-e6ee-ad1855067283"
      },
      "source": [
        "\n",
        "model = CustomResNet().to(device)\n",
        "criterion = nn.CrossEntropyLoss()\n",
        "optimizer = optim.SGD(model.parameters(), lr=0.001, momentum = 0.9)\n",
        "lr_finder = LRFinder(model, optimizer, criterion, device=\"cuda\")\n",
        "lr_finder.range_test(trainloader, end_lr=10, num_iter=500)\n",
        "lr_finder.plot() # to inspect the loss-learning rate graph\n",
        "lr_finder.reset() # to reset the model and optimizer to their initial state"
      ],
      "execution_count": 22,
      "outputs": [
        {
          "output_type": "display_data",
          "data": {
            "application/vnd.jupyter.widget-view+json": {
              "model_id": "81fe18d46dd545fd8b39dad70c22167a",
              "version_minor": 0,
              "version_major": 2
            },
            "text/plain": [
              "  0%|          | 0/500 [00:00<?, ?it/s]"
            ]
          },
          "metadata": {}
        },
        {
          "output_type": "stream",
          "name": "stderr",
          "text": [
            "/usr/local/lib/python3.7/dist-packages/ipykernel_launcher.py:114: UserWarning: Implicit dimension choice for log_softmax has been deprecated. Change the call to include dim=X as an argument.\n"
          ]
        },
        {
          "output_type": "stream",
          "name": "stdout",
          "text": [
            "Stopping early, the loss has diverged\n",
            "Learning rate search finished. See the graph with {finder_name}.plot()\n",
            "LR suggestion: steepest gradient\n",
            "Suggested LR: 2.86E-03\n"
          ]
        },
        {
          "output_type": "display_data",
          "data": {
            "image/png": "[encoded data removed]",
            "text/plain": [
              "<Figure size 432x288 with 1 Axes>"
            ]
          },
          "metadata": {
            "needs_background": "light"
          }
        }
      ]
    },
    {
      "cell_type": "code",
      "metadata": {
        "colab": {
          "base_uri": "https://localhost:8080/",
          "height": 385,
          "referenced_widgets": [
            "bf4964c1760c476f8067b1d823de9938",
            "162267c2283b4e2e9f415c1557202778",
            "a6d1724cb23b40c5800eeb8d36927f2a",
            "2b45c59041de41abb86afb5158c5b34a",
            "478528fd781c41ac807c29737d5fafb8",
            "b475acbbc98e4cc99c1a0215233da822",
            "15e4e7e80f0743d38a49436fe7f7e921",
            "3d04dd3f0a144b29931053a8994fdd68",
            "840fb15264a94d8d93f39344ccbe249f",
            "4736a2476411425aa02c46e32234a814",
            "1f200b29a45a4104b04b3e2c4026bf15"
          ]
        },
        "id": "t_HSM-TVfUR1",
        "outputId": "723e75c1-2e3e-4fd4-b09b-eabcbfba8b6d"
      },
      "source": [
        "#@title\n",
        "model = CustomResNet().to(device)\n",
        "criterion = nn.CrossEntropyLoss()\n",
        "optimizer = optim.SGD(model.parameters(), lr=0.001, momentum = 0.9)\n",
        "lr_finder = LRFinder(model, optimizer, criterion, device=\"cuda\")\n",
        "lr_finder.range_test(trainloader, end_lr=100, num_iter=400)\n",
        "lr_finder.plot() # to inspect the loss-learning rate graph\n",
        "lr_finder.reset() # to reset the model and optimizer to their initial state\n",
        "\n",
        "\n"
      ],
      "execution_count": 15,
      "outputs": [
        {
          "output_type": "display_data",
          "data": {
            "application/vnd.jupyter.widget-view+json": {
              "model_id": "bf4964c1760c476f8067b1d823de9938",
              "version_minor": 0,
              "version_major": 2
            },
            "text/plain": [
              "  0%|          | 0/400 [00:00<?, ?it/s]"
            ]
          },
          "metadata": {}
        },
        {
          "output_type": "stream",
          "name": "stdout",
          "text": [
            "Stopping early, the loss has diverged\n",
            "Learning rate search finished. See the graph with {finder_name}.plot()\n",
            "LR suggestion: steepest gradient\n",
            "Suggested LR: 3.66E-03\n"
          ]
        },
        {
          "output_type": "display_data",
          "data": {
            "image/png": "[encoded data removed]",
            "text/plain": [
              "<Figure size 432x288 with 1 Axes>"
            ]
          },
          "metadata": {
            "needs_background": "light"
          }
        }
      ]
    },
    {
      "cell_type": "code",
      "metadata": {
        "id": "nY7F6BZM17dp"
      },
      "source": [
        "\n",
        "from tqdm import tqdm\n",
        "\n",
        "\n",
        "def test(model, device, test_loader):\n",
        "\n",
        "    model.eval()\n",
        "    test_loss = 0\n",
        "    correct = 0\n",
        "    test_losses = []\n",
        "    test_acc = []\n",
        "    \n",
        "    with torch.no_grad():\n",
        "        for data, target in test_loader:\n",
        "            data, target = data.to(device), target.to(device)\n",
        "            output = model(data)\n",
        "            test_loss += F.nll_loss(output, target,reduction='sum').item()  # sum up batch loss\n",
        "            pred = output.argmax(dim=1, keepdim=True)  # get the index of the max log-probability\n",
        "            correct += pred.eq(target.view_as(pred)).sum().item()\n",
        "\n",
        "    test_loss /= len(test_loader.dataset)\n",
        "    test_losses.append(test_loss)\n",
        "\n",
        "    print('\\nTest set: Average loss: {:.4f}, Test Accuracy: {}/{} ({:.2f}%)\\n'.format(\n",
        "        test_loss, correct, len(test_loader.dataset),\n",
        "        100. * correct / len(test_loader.dataset)))\n",
        "\n",
        "    test_acc.append(100*correct/len(test_loader.dataset))\n",
        "    \n",
        "    return test_losses,test_acc\n",
        "\n",
        "\n",
        "def train(model, device,optimizer, epoch, train_loader):\n",
        "\n",
        "    model.train() #set  the model  in training mode (which means the model knows to include thing like batchnorm and dropout)\n",
        "    pbar = tqdm(train_loader)\n",
        "    correct  = 0\n",
        "    processed  = 0\n",
        "    train_acc = []\n",
        "    train_losses = []\n",
        "    running_loss = 0.0\n",
        "\n",
        "    for batch_idx, (data, target) in enumerate(pbar):\n",
        "        # get the inputs\n",
        "        data = data.to(device)\n",
        "        target = target.to(device)\n",
        "\n",
        "        # zero the parameter gradients\n",
        "        optimizer.zero_grad()\n",
        "\n",
        "        # forward + backward + optimize\n",
        "        output = model(data)\n",
        "        loss = F.nll_loss(output, target)\n",
        "        loss.backward()\n",
        "        optimizer.step()\n",
        "\n",
        "        # print statistics\n",
        "        running_loss += loss.item()\n",
        "\n",
        "        #printing training logs\n",
        "        pred = output.argmax(dim=1, keepdim=True)  # get the index of the max log-probability\n",
        "        correct += pred.eq(target.view_as(pred)).sum().item()\n",
        "        processed += len(data)\n",
        "        train_losses.append(loss.item())\n",
        "\n",
        "        pbar.set_description(desc= f'Loss={loss.item()} Batch_id={batch_idx} Train Accuracy={100*correct/processed:0.2f}')\n",
        "        train_acc.append(100*correct/processed)\n",
        "\n",
        "        # if batch_idx % 2000 == 1999:    # print every 2000 mini-batches\n",
        "        #     print('[%d, %5d] loss: %.3f' %\n",
        "        #           (epoch + 1, batch_idx + 1, running_loss / 2000))\n",
        "        #     running_loss = 0.0\n",
        "\n",
        "\n",
        "    return train_losses,train_acc"
      ],
      "execution_count": 11,
      "outputs": []
    },
    {
      "cell_type": "code",
      "metadata": {
        "id": "eQuQs1ADPkGe"
      },
      "source": [
        "import torch.optim as optim"
      ],
      "execution_count": 14,
      "outputs": []
    },
    {
      "cell_type": "code",
      "metadata": {
        "colab": {
          "base_uri": "https://localhost:8080/"
        },
        "id": "P-Y6AARvdRc2",
        "outputId": "35387a2a-2632-43dd-e995-48bb076965ae"
      },
      "source": [
        "len(trainloader)"
      ],
      "execution_count": 18,
      "outputs": [
        {
          "output_type": "execute_result",
          "data": {
            "text/plain": [
              "98"
            ]
          },
          "metadata": {},
          "execution_count": 18
        }
      ]
    },
    {
      "cell_type": "code",
      "metadata": {
        "colab": {
          "base_uri": "https://localhost:8080/"
        },
        "id": "SOSA6fSFHfTw",
        "outputId": "8c1ba840-caaf-42a2-de69-1a9d8056121b"
      },
      "source": [
        "model = CustomResNet().to(device)\n",
        "optimizer = optim.SGD(model.parameters(), lr=0.01, momentum=0.9)\n",
        "scheduler = torch.optim.lr_scheduler.OneCycleLR(optimizer, max_lr=0.1, steps_per_epoch=len(trainloader), \n",
        "                                                epochs=24,pct_start = 5/24, verbose = True, anneal_strategy = 'linear',\n",
        "                                                div_factor = 10,three_phase = False,base_momentum = 0.8)\n",
        "\n",
        "train_accuracies = []\n",
        "train_losses = []\n",
        "test_accuracies = []\n",
        "test_losses = []\n",
        "\n",
        "for epoch in range(1, 25):\n",
        "\n",
        "    print(f\"Epoch {epoch}\")\n",
        "    \n",
        "\n",
        "    x,y = train(model, device, train_loader = trainloader, optimizer = optimizer,epoch =  epoch)\n",
        "    \n",
        "    a,b = test(model, device, test_loader = testloader)\n",
        "    scheduler.step()\n",
        "    \n",
        "\n",
        "    train_losses.append(x)\n",
        "    test_losses.append(a)\n",
        "    train_accuracies.append(y)\n",
        "    test_accuracies.append(b)"
      ],
      "execution_count": 31,
      "outputs": [
        {
          "output_type": "stream",
          "name": "stdout",
          "text": [
            "Adjusting learning rate of group 0 to 1.0000e-02.\n",
            "Epoch 1\n"
          ]
        },
        {
          "output_type": "stream",
          "name": "stderr",
          "text": [
            "  0%|          | 0/98 [00:00<?, ?it/s]/usr/local/lib/python3.7/dist-packages/ipykernel_launcher.py:116: UserWarning: Implicit dimension choice for log_softmax has been deprecated. Change the call to include dim=X as an argument.\n",
            "Loss=1.7665544748306274 Batch_id=97 Train Accuracy=20.82: 100%|██████████| 98/98 [00:52<00:00,  1.88it/s]\n"
          ]
        },
        {
          "output_type": "stream",
          "name": "stdout",
          "text": [
            "\n",
            "Test set: Average loss: 2.5500, Test Accuracy: 1353/10000 (13.53%)\n",
            "\n",
            "Adjusting learning rate of group 0 to 1.0184e-02.\n",
            "Epoch 2\n"
          ]
        },
        {
          "output_type": "stream",
          "name": "stderr",
          "text": [
            "Loss=1.411885380744934 Batch_id=97 Train Accuracy=39.48: 100%|██████████| 98/98 [00:52<00:00,  1.87it/s]\n"
          ]
        },
        {
          "output_type": "stream",
          "name": "stdout",
          "text": [
            "\n",
            "Test set: Average loss: 1.5127, Test Accuracy: 4493/10000 (44.93%)\n",
            "\n",
            "Adjusting learning rate of group 0 to 1.0368e-02.\n",
            "Epoch 3\n"
          ]
        },
        {
          "output_type": "stream",
          "name": "stderr",
          "text": [
            "Loss=0.9499127268791199 Batch_id=97 Train Accuracy=57.92: 100%|██████████| 98/98 [00:52<00:00,  1.86it/s]\n"
          ]
        },
        {
          "output_type": "stream",
          "name": "stdout",
          "text": [
            "\n",
            "Test set: Average loss: 0.9838, Test Accuracy: 6378/10000 (63.78%)\n",
            "\n",
            "Adjusting learning rate of group 0 to 1.0552e-02.\n",
            "Epoch 4\n"
          ]
        },
        {
          "output_type": "stream",
          "name": "stderr",
          "text": [
            "Loss=0.7566673159599304 Batch_id=97 Train Accuracy=66.87: 100%|██████████| 98/98 [00:52<00:00,  1.86it/s]\n"
          ]
        },
        {
          "output_type": "stream",
          "name": "stdout",
          "text": [
            "\n",
            "Test set: Average loss: 0.8149, Test Accuracy: 7062/10000 (70.62%)\n",
            "\n",
            "Adjusting learning rate of group 0 to 1.0736e-02.\n",
            "Epoch 5\n"
          ]
        },
        {
          "output_type": "stream",
          "name": "stderr",
          "text": [
            "Loss=0.6758975386619568 Batch_id=97 Train Accuracy=72.51: 100%|██████████| 98/98 [00:52<00:00,  1.87it/s]\n"
          ]
        },
        {
          "output_type": "stream",
          "name": "stdout",
          "text": [
            "\n",
            "Test set: Average loss: 0.6611, Test Accuracy: 7654/10000 (76.54%)\n",
            "\n",
            "Adjusting learning rate of group 0 to 1.0920e-02.\n",
            "Epoch 6\n"
          ]
        },
        {
          "output_type": "stream",
          "name": "stderr",
          "text": [
            "Loss=0.6505983471870422 Batch_id=97 Train Accuracy=76.11: 100%|██████████| 98/98 [00:52<00:00,  1.87it/s]\n"
          ]
        },
        {
          "output_type": "stream",
          "name": "stdout",
          "text": [
            "\n",
            "Test set: Average loss: 0.6890, Test Accuracy: 7598/10000 (75.98%)\n",
            "\n",
            "Adjusting learning rate of group 0 to 1.1104e-02.\n",
            "Epoch 7\n"
          ]
        },
        {
          "output_type": "stream",
          "name": "stderr",
          "text": [
            "Loss=0.6370550394058228 Batch_id=97 Train Accuracy=78.60: 100%|██████████| 98/98 [00:52<00:00,  1.87it/s]\n"
          ]
        },
        {
          "output_type": "stream",
          "name": "stdout",
          "text": [
            "\n",
            "Test set: Average loss: 0.5754, Test Accuracy: 8041/10000 (80.41%)\n",
            "\n",
            "Adjusting learning rate of group 0 to 1.1288e-02.\n",
            "Epoch 8\n"
          ]
        },
        {
          "output_type": "stream",
          "name": "stderr",
          "text": [
            "Loss=0.6245266795158386 Batch_id=97 Train Accuracy=81.07: 100%|██████████| 98/98 [00:52<00:00,  1.87it/s]\n"
          ]
        },
        {
          "output_type": "stream",
          "name": "stdout",
          "text": [
            "\n",
            "Test set: Average loss: 0.5468, Test Accuracy: 8090/10000 (80.90%)\n",
            "\n",
            "Adjusting learning rate of group 0 to 1.1472e-02.\n",
            "Epoch 9\n"
          ]
        },
        {
          "output_type": "stream",
          "name": "stderr",
          "text": [
            "Loss=0.5459502935409546 Batch_id=97 Train Accuracy=83.02: 100%|██████████| 98/98 [00:52<00:00,  1.87it/s]\n"
          ]
        },
        {
          "output_type": "stream",
          "name": "stdout",
          "text": [
            "\n",
            "Test set: Average loss: 0.4556, Test Accuracy: 8387/10000 (83.87%)\n",
            "\n",
            "Adjusting learning rate of group 0 to 1.1656e-02.\n",
            "Epoch 10\n"
          ]
        },
        {
          "output_type": "stream",
          "name": "stderr",
          "text": [
            "Loss=0.436606764793396 Batch_id=97 Train Accuracy=83.98: 100%|██████████| 98/98 [00:52<00:00,  1.87it/s]\n"
          ]
        },
        {
          "output_type": "stream",
          "name": "stdout",
          "text": [
            "\n",
            "Test set: Average loss: 0.4751, Test Accuracy: 8343/10000 (83.43%)\n",
            "\n",
            "Adjusting learning rate of group 0 to 1.1840e-02.\n",
            "Epoch 11\n"
          ]
        },
        {
          "output_type": "stream",
          "name": "stderr",
          "text": [
            "Loss=0.3821966052055359 Batch_id=97 Train Accuracy=85.02: 100%|██████████| 98/98 [00:52<00:00,  1.87it/s]\n"
          ]
        },
        {
          "output_type": "stream",
          "name": "stdout",
          "text": [
            "\n",
            "Test set: Average loss: 0.4677, Test Accuracy: 8344/10000 (83.44%)\n",
            "\n",
            "Adjusting learning rate of group 0 to 1.2025e-02.\n",
            "Epoch 12\n"
          ]
        },
        {
          "output_type": "stream",
          "name": "stderr",
          "text": [
            "Loss=0.45533838868141174 Batch_id=97 Train Accuracy=85.99: 100%|██████████| 98/98 [00:52<00:00,  1.87it/s]\n"
          ]
        },
        {
          "output_type": "stream",
          "name": "stdout",
          "text": [
            "\n",
            "Test set: Average loss: 0.4379, Test Accuracy: 8494/10000 (84.94%)\n",
            "\n",
            "Adjusting learning rate of group 0 to 1.2209e-02.\n",
            "Epoch 13\n"
          ]
        },
        {
          "output_type": "stream",
          "name": "stderr",
          "text": [
            "Loss=0.35071995854377747 Batch_id=97 Train Accuracy=86.81: 100%|██████████| 98/98 [00:52<00:00,  1.87it/s]\n"
          ]
        },
        {
          "output_type": "stream",
          "name": "stdout",
          "text": [
            "\n",
            "Test set: Average loss: 0.3973, Test Accuracy: 8625/10000 (86.25%)\n",
            "\n",
            "Adjusting learning rate of group 0 to 1.2393e-02.\n",
            "Epoch 14\n"
          ]
        },
        {
          "output_type": "stream",
          "name": "stderr",
          "text": [
            "Loss=0.42306485772132874 Batch_id=97 Train Accuracy=87.36: 100%|██████████| 98/98 [00:52<00:00,  1.86it/s]\n"
          ]
        },
        {
          "output_type": "stream",
          "name": "stdout",
          "text": [
            "\n",
            "Test set: Average loss: 0.4462, Test Accuracy: 8532/10000 (85.32%)\n",
            "\n",
            "Adjusting learning rate of group 0 to 1.2577e-02.\n",
            "Epoch 15\n"
          ]
        },
        {
          "output_type": "stream",
          "name": "stderr",
          "text": [
            "Loss=0.293083518743515 Batch_id=97 Train Accuracy=87.93: 100%|██████████| 98/98 [00:52<00:00,  1.87it/s]\n"
          ]
        },
        {
          "output_type": "stream",
          "name": "stdout",
          "text": [
            "\n",
            "Test set: Average loss: 0.3790, Test Accuracy: 8733/10000 (87.33%)\n",
            "\n",
            "Adjusting learning rate of group 0 to 1.2761e-02.\n",
            "Epoch 16\n"
          ]
        },
        {
          "output_type": "stream",
          "name": "stderr",
          "text": [
            "Loss=0.3075818717479706 Batch_id=97 Train Accuracy=88.68: 100%|██████████| 98/98 [00:52<00:00,  1.87it/s]\n"
          ]
        },
        {
          "output_type": "stream",
          "name": "stdout",
          "text": [
            "\n",
            "Test set: Average loss: 0.3551, Test Accuracy: 8741/10000 (87.41%)\n",
            "\n",
            "Adjusting learning rate of group 0 to 1.2945e-02.\n",
            "Epoch 17\n"
          ]
        },
        {
          "output_type": "stream",
          "name": "stderr",
          "text": [
            "Loss=0.2551039159297943 Batch_id=97 Train Accuracy=89.44: 100%|██████████| 98/98 [00:52<00:00,  1.87it/s]\n"
          ]
        },
        {
          "output_type": "stream",
          "name": "stdout",
          "text": [
            "\n",
            "Test set: Average loss: 0.3516, Test Accuracy: 8808/10000 (88.08%)\n",
            "\n",
            "Adjusting learning rate of group 0 to 1.3129e-02.\n",
            "Epoch 18\n"
          ]
        },
        {
          "output_type": "stream",
          "name": "stderr",
          "text": [
            "Loss=0.25764355063438416 Batch_id=97 Train Accuracy=89.70: 100%|██████████| 98/98 [00:52<00:00,  1.86it/s]\n"
          ]
        },
        {
          "output_type": "stream",
          "name": "stdout",
          "text": [
            "\n",
            "Test set: Average loss: 0.3401, Test Accuracy: 8834/10000 (88.34%)\n",
            "\n",
            "Adjusting learning rate of group 0 to 1.3313e-02.\n",
            "Epoch 19\n"
          ]
        },
        {
          "output_type": "stream",
          "name": "stderr",
          "text": [
            "Loss=0.3387080430984497 Batch_id=97 Train Accuracy=90.02: 100%|██████████| 98/98 [00:52<00:00,  1.87it/s]\n"
          ]
        },
        {
          "output_type": "stream",
          "name": "stdout",
          "text": [
            "\n",
            "Test set: Average loss: 0.3252, Test Accuracy: 8922/10000 (89.22%)\n",
            "\n",
            "Adjusting learning rate of group 0 to 1.3497e-02.\n",
            "Epoch 20\n"
          ]
        },
        {
          "output_type": "stream",
          "name": "stderr",
          "text": [
            "Loss=0.20785994827747345 Batch_id=97 Train Accuracy=90.77: 100%|██████████| 98/98 [00:52<00:00,  1.87it/s]\n"
          ]
        },
        {
          "output_type": "stream",
          "name": "stdout",
          "text": [
            "\n",
            "Test set: Average loss: 0.3004, Test Accuracy: 9002/10000 (90.02%)\n",
            "\n",
            "Adjusting learning rate of group 0 to 1.3681e-02.\n",
            "Epoch 21\n"
          ]
        },
        {
          "output_type": "stream",
          "name": "stderr",
          "text": [
            "Loss=0.3067645728588104 Batch_id=97 Train Accuracy=91.03: 100%|██████████| 98/98 [00:52<00:00,  1.86it/s]\n"
          ]
        },
        {
          "output_type": "stream",
          "name": "stdout",
          "text": [
            "\n",
            "Test set: Average loss: 0.3249, Test Accuracy: 8949/10000 (89.49%)\n",
            "\n",
            "Adjusting learning rate of group 0 to 1.3865e-02.\n",
            "Epoch 22\n"
          ]
        },
        {
          "output_type": "stream",
          "name": "stderr",
          "text": [
            "Loss=0.2797403037548065 Batch_id=97 Train Accuracy=91.25: 100%|██████████| 98/98 [00:52<00:00,  1.87it/s]\n"
          ]
        },
        {
          "output_type": "stream",
          "name": "stdout",
          "text": [
            "\n",
            "Test set: Average loss: 0.3090, Test Accuracy: 8968/10000 (89.68%)\n",
            "\n",
            "Adjusting learning rate of group 0 to 1.4049e-02.\n",
            "Epoch 23\n"
          ]
        },
        {
          "output_type": "stream",
          "name": "stderr",
          "text": [
            "Loss=0.20025832951068878 Batch_id=97 Train Accuracy=91.74: 100%|██████████| 98/98 [00:52<00:00,  1.87it/s]\n"
          ]
        },
        {
          "output_type": "stream",
          "name": "stdout",
          "text": [
            "\n",
            "Test set: Average loss: 0.3188, Test Accuracy: 8969/10000 (89.69%)\n",
            "\n",
            "Adjusting learning rate of group 0 to 1.4233e-02.\n",
            "Epoch 24\n"
          ]
        },
        {
          "output_type": "stream",
          "name": "stderr",
          "text": [
            "Loss=0.22609268128871918 Batch_id=97 Train Accuracy=91.91: 100%|██████████| 98/98 [00:52<00:00,  1.87it/s]\n"
          ]
        },
        {
          "output_type": "stream",
          "name": "stdout",
          "text": [
            "\n",
            "Test set: Average loss: 0.2956, Test Accuracy: 9044/10000 (90.44%)\n",
            "\n",
            "Adjusting learning rate of group 0 to 1.4417e-02.\n"
          ]
        }
      ]
    },
    {
      "cell_type": "code",
      "metadata": {
        "id": "J3sc4qlaPbH0"
      },
      "source": [
        ""
      ],
      "execution_count": null,
      "outputs": []
    }
  ]
}